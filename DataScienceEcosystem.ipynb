{
 "cells": [
  {
   "cell_type": "markdown",
   "id": "7c21ced6-7743-43bc-8bcd-c374aed6d5cc",
   "metadata": {},
   "source": [
    "# Data Science Tools and Ecosystem"
   ]
  },
  {
   "cell_type": "markdown",
   "id": "67bd428d-dd99-4467-83e5-f3ffb041c637",
   "metadata": {},
   "source": [
    "Neste notebook, as Ferramentas e Ecossistema de Ciência de Dados são resumidos.\n",
    "\n",
    "__Objetivos:__\n",
    "* Listar linguagens populares para Ciência de Dados\n",
    "* Listar algumas das bibliotecas comumente usadas por Cientistas da Dados\n",
    "* Apresentar algumas das ferramentas usadas em Ciência de Dados\n",
    "* Apresentar uma expressão aritmética com números inteiros\n",
    "* Apresentar uma conversão de minutos em horas"
   ]
  },
  {
   "cell_type": "markdown",
   "id": "3ea2fbaf-f95c-4b15-8979-6dc78600c5a2",
   "metadata": {},
   "source": [
    "Algumas das linguagens populares que os Cientistas de Dados usam são:\n",
    "1. Python\n",
    "2. R\n",
    "3. Java"
   ]
  },
  {
   "cell_type": "markdown",
   "id": "db102afe-e312-46d6-be43-ded381bd9058",
   "metadata": {},
   "source": [
    "Algumas das bibliotecas comumente usadas por Cientistas de Dados incluem:\n",
    "1. Numpy\n",
    "2. Pandas\n",
    "3. Matplotlib\n",
    "4. Scikit-learn"
   ]
  },
  {
   "cell_type": "markdown",
   "id": "cf68eee5-79cf-4c8a-9d6d-76246719582f",
   "metadata": {},
   "source": [
    "| Ferramentas de Ciência de Dados |\n",
    "|:------------------------------: |\n",
    "| Jupyter Notebook |\n",
    "| RStudio |\n",
    "| VS Code |"
   ]
  },
  {
   "attachments": {},
   "cell_type": "markdown",
   "id": "fc884b4c-c1ca-4ebf-9919-04f688af6c89",
   "metadata": {},
   "source": [
    "### Abaixo estão alguns exemplos de avaliação de expressões aritméticas em Python"
   ]
  },
  {
   "cell_type": "code",
   "execution_count": 5,
   "id": "d390c161-b076-4d1f-80e2-5fdaf79fd3eb",
   "metadata": {},
   "outputs": [
    {
     "data": {
      "text/plain": [
       "17"
      ]
     },
     "execution_count": 5,
     "metadata": {},
     "output_type": "execute_result"
    }
   ],
   "source": [
    "#Esta é uma expressão aritmética simples para multiplicar e depois adicionar inteiro\n",
    "(3*4)+5"
   ]
  },
  {
   "cell_type": "code",
   "execution_count": 6,
   "id": "4702694a-22ff-4d24-9ce8-b7e0629ff256",
   "metadata": {},
   "outputs": [
    {
     "data": {
      "text/plain": [
       "3.3333333333333335"
      ]
     },
     "execution_count": 6,
     "metadata": {},
     "output_type": "execute_result"
    }
   ],
   "source": [
    "#Isso converterá 200 minutos em horas dividindo por 60\n",
    "200/60"
   ]
  },
  {
   "cell_type": "markdown",
   "id": "95f4e173-3ea1-41d8-8dcb-17f309b9c3d4",
   "metadata": {},
   "source": [
    "## Autor\n",
    "Renan"
   ]
  },
  {
   "cell_type": "code",
   "execution_count": null,
   "id": "3856e7ce-a68a-46b8-899f-4fb9c7ae0842",
   "metadata": {},
   "outputs": [],
   "source": []
  }
 ],
 "metadata": {
  "kernelspec": {
   "display_name": "Python 3 (ipykernel)",
   "language": "python",
   "name": "python3"
  },
  "language_info": {
   "codemirror_mode": {
    "name": "ipython",
    "version": 3
   },
   "file_extension": ".py",
   "mimetype": "text/x-python",
   "name": "python",
   "nbconvert_exporter": "python",
   "pygments_lexer": "ipython3",
   "version": "3.12.4"
  }
 },
 "nbformat": 4,
 "nbformat_minor": 5
}
